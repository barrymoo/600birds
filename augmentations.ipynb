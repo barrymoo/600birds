{
 "cells": [
  {
   "cell_type": "code",
   "execution_count": 1,
   "metadata": {},
   "outputs": [],
   "source": [
    "#from audio import load\n",
    "from librosa import load"
   ]
  },
  {
   "cell_type": "code",
   "execution_count": 2,
   "metadata": {},
   "outputs": [],
   "source": [
    "samples, sr = load('../tests/silence_10s.mp3')"
   ]
  },
  {
   "cell_type": "code",
   "execution_count": 3,
   "metadata": {},
   "outputs": [],
   "source": [
    "import random\n",
    "import numpy as np"
   ]
  },
  {
   "cell_type": "markdown",
   "metadata": {},
   "source": [
    "# Chunk extraction"
   ]
  },
  {
   "cell_type": "markdown",
   "metadata": {},
   "source": [
    "### Helper function: `wraparound_extract()`"
   ]
  },
  {
   "cell_type": "code",
   "execution_count": 4,
   "metadata": {},
   "outputs": [],
   "source": [
    "def wraparound_extract(original, begin, length):\n",
    "    '''\n",
    "    Extracts elements from numpy.array in a \"wraparound\" fashion\n",
    "    \n",
    "    Extracts a certain number of elements from \n",
    "    a numpy.array starting at a certain position.\n",
    "    If the chosen position and length go\n",
    "    past the end of the array, the extraction\n",
    "    \"wraps around\" to the beginning of the numpy.array\n",
    "    as many times as necessary. For instance:\n",
    "    \n",
    "    wraparound_extract(\n",
    "        original = [0, 5, 10],\n",
    "        begin = 1, \n",
    "        length = 7) -> [5, 10, 0, 5, 10, 0, 5]\n",
    "    \n",
    "    Args:\n",
    "        original (np.array): the original array \n",
    "        begin (int): beginning position to extract\n",
    "        length (int): number of elements to extract\n",
    "    '''\n",
    "\n",
    "    # Get `head`: the array after the beginning position\n",
    "    assert(type(original) == np.ndarray)\n",
    "    len_original = original.shape[0]\n",
    "    begin = begin % len_original\n",
    "    head = original[begin:]\n",
    "    len_head = head.shape[0]\n",
    "\n",
    "    # Number of elements we require for full wrap-around\n",
    "    wrap_needed = length - len_head\n",
    "\n",
    "    # Generate the desired list, wrapped if necessary\n",
    "    if wrap_needed > 0:\n",
    "        repeats = np.tile(original, int(wrap_needed/len_original))\n",
    "        tail = np.array(original[ : (wrap_needed % len_original)])\n",
    "        desired_list = np.concatenate((head, repeats, tail))\n",
    "    else:\n",
    "        desired_list = original[begin:begin+length]\n",
    "    \n",
    "    #print(desired_list)\n",
    "    return desired_list"
   ]
  },
  {
   "cell_type": "markdown",
   "metadata": {},
   "source": [
    "### Tests of `wraparound_extract()`"
   ]
  },
  {
   "cell_type": "code",
   "execution_count": 5,
   "metadata": {},
   "outputs": [],
   "source": [
    "import numpy.testing as npt\n",
    "\n",
    "# test zero beginning, not getting to end of original array\n",
    "npt.assert_array_equal(wraparound_extract(original = np.array([0, 1]), begin = 0, length = 1), np.array([0]))\n",
    "\n",
    "# test zero beginning, not getting to end of original array\n",
    "npt.assert_array_equal(wraparound_extract(original = np.array([0, 1]), begin = 0, length = 2), np.array([0, 1]))\n",
    "\n",
    "# test zero beginning, not wrapping\n",
    "npt.assert_array_equal(wraparound_extract(original = np.array([0, 1]), begin = 0, length = 2), np.array([0, 1]))\n",
    "\n",
    "# test zero beginning, wrapping around\n",
    "npt.assert_array_equal(wraparound_extract(original = np.array([0, 1]), begin = 0, length = 3), np.array([0, 1, 0]))\n",
    "\n",
    "# test nonzero beginning, not wrapping\n",
    "npt.assert_array_equal(wraparound_extract(original = np.array([0, 1]), begin = 1, length = 1), np.array([1]))\n",
    "\n",
    "# test nonzero beginning, wrapping around\n",
    "npt.assert_array_equal(wraparound_extract(original = np.array([0, 1]), begin = 1, length = 3), np.array([1, 0, 1]))\n",
    "\n",
    "# test multiwrap\n",
    "npt.assert_array_equal(wraparound_extract(original = np.array([0, 1]), begin = 1, length = 10), np.array([1, 0, 1, 0, 1, 0, 1, 0, 1, 0]))\n",
    "\n",
    "# test wrapping around beginning\n",
    "npt.assert_array_equal(wraparound_extract(original = np.array([0, 1]), begin = 5, length = 3), np.array([1, 0, 1]))\n",
    "\n"
   ]
  },
  {
   "cell_type": "markdown",
   "metadata": {},
   "source": [
    "### Main function: `get_chunk()`"
   ]
  },
  {
   "cell_type": "code",
   "execution_count": 6,
   "metadata": {},
   "outputs": [
    {
     "data": {
      "text/plain": [
       "array([-2.4658695e-05,  4.3753503e-06,  5.9822269e-06, ...,\n",
       "        6.4597469e-07, -5.6203603e-06,  2.1704989e-06], dtype=float32)"
      ]
     },
     "execution_count": 6,
     "metadata": {},
     "output_type": "execute_result"
    }
   ],
   "source": [
    "def get_chunk(\n",
    "    samples, \n",
    "    sample_rate,\n",
    "    start_position = None, # randomize start position\n",
    "    duration = 5, # 5 seconds\n",
    "    duration_jitter = 0.5, #jitter duration +- 0.5s\n",
    "    chance_random_skip = 0.3 #randomly skip 30% of the time\n",
    "):\n",
    "    '''\n",
    "    Extracts chunk of audio with some augmentation\n",
    "    \n",
    "    Extracts samples of audio from a master list\n",
    "    of samples. \n",
    "    \n",
    "    Available data augmentation options include:\n",
    "        - selecting a position to start extracting from\n",
    "          or allowing function to randomly choose start\n",
    "        - selecting duration of chunk and allowing\n",
    "          for random jitter of duration\n",
    "        - randomly skipping some number of samples from\n",
    "          0 to the length of the chunk\n",
    "    \n",
    "    If the chunk to be extracted reaches the end of the\n",
    "    samples, the chunk will \"wrap around\" and start\n",
    "    reading from the beginning of the samples.\n",
    "    \n",
    "    Args\n",
    "        samples (numpy.array) - audio samples loaded\n",
    "            by librosa.load or audio.load\n",
    "        sample_rate (int) - sample rate of `samples`\n",
    "        start_position (int) - position in the file to start\n",
    "            extracting samples from. If None, the start position \n",
    "            is chosen randomly\n",
    "        duration (float) - desired duration, in seconds, \n",
    "            of chunk to extract\n",
    "        duration_jitter (float) - if this value is not 0,\n",
    "            the duration of the chunk extracted will \n",
    "            be randomly selected from the range \n",
    "            (duration - duration_jitter, duration + duration_jitter)\n",
    "        chance_random_skip (float between 0 and 1) - \n",
    "            percent chance of random skipping. In a random skip,\n",
    "            a position within the chunk will be randomly\n",
    "            selected, and from that position in the \n",
    "            audio file, a random number of samples will \n",
    "            be skipped. The number of samples skipped is between\n",
    "            0 and the number of samples in the entire chunk\n",
    "    \n",
    "    Returns\n",
    "        samples\n",
    "    '''\n",
    "    \n",
    "    # Get a random start position\n",
    "    num_samples = len(samples)\n",
    "    if not start_position:\n",
    "        start_position = random.randint(0, num_samples)\n",
    "\n",
    "    # Convert seconds to samples\n",
    "    seconds_to_extract = duration + random.uniform(-duration_jitter, duration_jitter)\n",
    "    samples_to_extract = int(seconds_to_extract * sample_rate)\n",
    "    \n",
    "    # Get chunks with skip in the middle with probability = chance_random_skip\n",
    "    if random.random() < chance_random_skip:\n",
    "        position_to_skip = random.randint(0, samples_to_extract)\n",
    "        amount_to_skip = random.randint(0, samples_to_extract)\n",
    "\n",
    "        chunk_1_start = start_position\n",
    "        chunk_1_end = chunk_1_start + position_to_skip\n",
    "        chunk_2_start = chunk_1_end + amount_to_skip\n",
    "        chunk_2_end = chunk_1_start + (samples_to_extract - position_to_skip)\n",
    "        \n",
    "        chunk_1 = wraparound_extract(samples, chunk_1_start, chunk_1_end)\n",
    "        chunk_2 = wraparound_extract(samples, chunk_2_start, chunk_2_end)\n",
    "        chunk = np.concatenate((chunk_1, chunk_2))\n",
    "    \n",
    "    # Otherwise get contiguous chunk\n",
    "    else:\n",
    "        chunk = wraparound_extract(samples, start_position, samples_to_extract) \n",
    "        \n",
    "    \n",
    "    return chunk\n",
    "    \n",
    "\n",
    "get_chunk(samples = samples, sample_rate = sr)"
   ]
  },
  {
   "cell_type": "markdown",
   "metadata": {},
   "source": [
    "### TODO: tests for `get_chunk()`"
   ]
  },
  {
   "cell_type": "markdown",
   "metadata": {},
   "source": [
    "# Cyclic shift"
   ]
  },
  {
   "cell_type": "code",
   "execution_count": 7,
   "metadata": {},
   "outputs": [],
   "source": [
    "def cyclic_shift(array, split_point = None):\n",
    "    '''\n",
    "    Shift array cyclicly by a random amount\n",
    "    \n",
    "    Shift array cyclicly by a random amount. Equivalent to\n",
    "    splitting array into two parts at a random element, then\n",
    "    switching the order of the parts.\n",
    "    \n",
    "    Args: \n",
    "        array (np.array): 1D-array to be split\n",
    "        split_point (float): float in (0, 1) describing\n",
    "            where in array to split -- for testing purposes.\n",
    "            For stochastic splitting, leave as None.\n",
    "    \n",
    "    Returns:\n",
    "        shifted_array: shifted array\n",
    "    '''\n",
    "    \n",
    "    assert(type(array) == np.ndarray)\n",
    "    length = array.shape[0]\n",
    "    \n",
    "    # Stochastic split point, or split point by floor of split_point * length of array\n",
    "    if not split_point: split_point = random.randint(0, length)\n",
    "    else: split_point = int(split_point * length)\n",
    "    \n",
    "    return np.concatenate((array[split_point:], array[:split_point]))"
   ]
  },
  {
   "cell_type": "code",
   "execution_count": 8,
   "metadata": {},
   "outputs": [],
   "source": [
    "# Test random splitting\n",
    "random.seed(100)\n",
    "npt.assert_array_equal(cyclic_shift(np.array((0, 1, 2, 3, 4, 5, 6, 7))), np.array([2, 3, 4, 5, 6, 7, 0, 1])))"
   ]
  },
  {
   "cell_type": "code",
   "execution_count": 9,
   "metadata": {},
   "outputs": [],
   "source": [
    "# Test deterministic splitting\n",
    "npt.assert_array_equal(cyclic_shift(np.array([0, 1, 2]), split_point=0.5), np.array([1, 2, 0]))\n",
    "\n",
    "# Test deterministic splitting\n",
    "npt.assert_array_equal(cyclic_shift(np.array([0, 1, 2, 3]), split_point=0.5), np.array([2, 3, 0, 1]))"
   ]
  },
  {
   "cell_type": "markdown",
   "metadata": {},
   "source": [
    "# Divide chunk randomly"
   ]
  },
  {
   "cell_type": "code",
   "execution_count": 10,
   "metadata": {},
   "outputs": [],
   "source": [
    "def divide_chunk(samples, sample_rate, low_duration, high_duration):\n",
    "    '''\n",
    "    Divide audio samples into random-sized segments\n",
    "    \n",
    "    Divide audio samples into random-sized segments\n",
    "    between the desired durations. The number\n",
    "    of segments is not deterministic.\n",
    "    \n",
    "    Args\n",
    "        samples (np.ndarray): 1d array of samples\n",
    "        sample_rate (int): sample rate of samples\n",
    "        low_duration (float): minimum duration\n",
    "            in seconds of any segment\n",
    "        high_duration (float): maximum duration\n",
    "            in seconds of any segment\n",
    "    '''\n",
    "    \n",
    "    min_chunk = int(low_duration * sample_rate)\n",
    "    max_chunk = int(high_duration * sample_rate)\n",
    "    \n",
    "    samples_to_take = samples.copy()\n",
    "    \n",
    "    segments = []\n",
    "    \n",
    "    while samples_to_take.shape[0]:\n",
    "        seg_size = random.randint(min_chunk, max_chunk)\n",
    "        segment, samples_to_take = np.split(samples_to_take, [seg_size])\n",
    "        segments.append(segment)\n",
    "    \n",
    "    return segments\n",
    "    "
   ]
  },
  {
   "cell_type": "code",
   "execution_count": 17,
   "metadata": {},
   "outputs": [],
   "source": [
    "# Test chunk division at set amount\n",
    "array0 = np.array([0, 0, 0])\n",
    "array1 = np.array([1, 1, 1])\n",
    "array2 = np.array([2])\n",
    "all_arrays = (array0, array1, array2)\n",
    "cat_arrays = np.concatenate(all_arrays)\n",
    "results = divide_chunk(cat_arrays, sample_rate=1, low_duration=3, high_duration=3)\n",
    "for idx, result in enumerate(results):\n",
    "    npt.assert_array_equal(result, all_arrays[idx])\n",
    "    \n",
    "# Test random chunk division\n",
    "random.seed(333)\n",
    "# Predetermined results with random.seed(333)\n",
    "predetermined = [np.array([0, 1, 2, 3, 4, 5, 6, 7]), np.array([8, 9])]\n",
    "results = divide_chunk(np.array(range(10)), sample_rate=1, low_duration=0, high_duration=10)\n",
    "for idx, result in enumerate(results):\n",
    "    npt.assert_array_equal(result, predetermined[idx])"
   ]
  }
 ],
 "metadata": {
  "kernelspec": {
   "display_name": "Python 3",
   "language": "python",
   "name": "python3"
  },
  "language_info": {
   "codemirror_mode": {
    "name": "ipython",
    "version": 3
   },
   "file_extension": ".py",
   "mimetype": "text/x-python",
   "name": "python",
   "nbconvert_exporter": "python",
   "pygments_lexer": "ipython3",
   "version": "3.6.9"
  }
 },
 "nbformat": 4,
 "nbformat_minor": 4
}
